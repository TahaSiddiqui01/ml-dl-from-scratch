{
 "cells": [
  {
   "cell_type": "code",
   "execution_count": null,
   "id": "c349c17f",
   "metadata": {},
   "outputs": [],
   "source": [
    "# import necessary libraries\n",
    "\n",
    "import numpy as np\n",
    "import pandas as pd\n",
    "import matplotlib.pyplot as plt\n",
    "import seaborn as sns\n",
    "import re\n",
    "from sklearn.feature_extraction.text import TfidfVectorizer\n",
    "import nltk\n",
    "from nltk.corpus import stopwords\n",
    "from sklearn.model_selection import train_test_split"
   ]
  },
  {
   "cell_type": "code",
   "execution_count": 62,
   "id": "bcade004",
   "metadata": {},
   "outputs": [],
   "source": [
    "class LogisticRegression():\n",
    "    def __init__(self, should_normalize=True, lr=0.01, n_iters=1000):\n",
    "        self.lr = lr\n",
    "        self.n_iters = n_iters\n",
    "        self.weights = None\n",
    "        self.bias = None\n",
    "        self.should_normalize = should_normalize\n",
    "        self.mean = None\n",
    "        self.std = None\n",
    "\n",
    "    def fit(self, X, y):\n",
    "        # Initialize parameters\n",
    "        n_samples, n_features = X.shape\n",
    "        self.weights = np.zeros(n_features)\n",
    "        self.bias = 0\n",
    "        \n",
    "        # Normalize the data and store normalization parameters\n",
    "        X_normalized = self.normalize_fit(X)\n",
    "        \n",
    "        # Training loop\n",
    "        for i in range(self.n_iters):\n",
    "            # Forward pass\n",
    "            y_pred = self.predict(X_normalized)\n",
    "            \n",
    "            # Compute loss\n",
    "            loss = self.compute_loss(y, y_pred)\n",
    "            \n",
    "            # Compute gradients\n",
    "            dw, db = self.gradient_descent(X_normalized, y, y_pred, n_samples)\n",
    "            \n",
    "            # Update weights\n",
    "            self.update_weights(dw, db)\n",
    "            \n",
    "            # Print progress every 100 iterations\n",
    "            if i % 100 == 0:\n",
    "                print(f\"Iteration {i+1}, Loss: {loss:.4f}\")\n",
    "\n",
    "    def normalize_fit(self, X):\n",
    "        \"\"\"Fit normalization parameters and transform X\"\"\"\n",
    "        if self.should_normalize == False:\n",
    "            return X\n",
    "        self.mean = np.mean(X, axis=0)\n",
    "        self.std = np.std(X, axis=0)\n",
    "        # Avoid division by zero\n",
    "        self.std = np.where(self.std == 0, 1, self.std)\n",
    "        return (X - self.mean) / self.std\n",
    "\n",
    "    def normalize_transform(self, X):\n",
    "        \"\"\"Transform X using fitted normalization parameters\"\"\"\n",
    "        if self.should_normalize == False:\n",
    "            return X\n",
    "        return (X - self.mean) / self.std\n",
    "\n",
    "    def sigmoid(self, z):\n",
    "        # Clip z to prevent overflow\n",
    "        z = np.clip(z, -500, 500)\n",
    "        return 1 / (1 + np.exp(-z))\n",
    "\n",
    "    def predict(self, X):\n",
    "        z = np.dot(X, self.weights) + self.bias\n",
    "        return self.sigmoid(z)\n",
    "\n",
    "    def compute_loss(self, y, y_pred):\n",
    "        # Add small epsilon to prevent log(0)\n",
    "        epsilon = 1e-15\n",
    "        y_pred = np.clip(y_pred, epsilon, 1 - epsilon)\n",
    "        loss = -(y * np.log(y_pred) + (1 - y) * np.log(1 - y_pred))\n",
    "        return np.mean(loss)\n",
    "    \n",
    "    def gradient_descent(self, X, y, y_pred, m):\n",
    "        # Compute gradients using matrix multiplication\n",
    "        dw = np.dot(X.T, (y_pred - y)) / m\n",
    "        db = np.sum(y_pred - y) / m\n",
    "        return dw, db\n",
    "    \n",
    "    def update_weights(self, dw, db):\n",
    "        self.weights -= self.lr * dw\n",
    "        self.bias -= self.lr * db\n",
    "    \n",
    "    def predict_class(self, X):\n",
    "        # Normalize X using the same parameters as training\n",
    "        X_normalized = self.normalize_transform(X)\n",
    "        y_pred = self.predict(X_normalized)\n",
    "        return [1 if i > 0.5 else 0 for i in y_pred]\n"
   ]
  },
  {
   "cell_type": "code",
   "execution_count": 63,
   "id": "257b9be3",
   "metadata": {},
   "outputs": [],
   "source": [
    "# import kagglehub\n",
    "\n",
    "# # Download latest version\n",
    "# path = kagglehub.dataset_download(\"abineshpa/spam-email-dataset\")\n",
    "\n",
    "# print(\"Path to dataset files:\", path)"
   ]
  },
  {
   "cell_type": "code",
   "execution_count": 64,
   "id": "cc8b91dc",
   "metadata": {},
   "outputs": [],
   "source": [
    "path_to_dataset = r'C:\\Users\\tahan\\.cache\\kagglehub\\datasets\\abineshpa\\spam-email-dataset\\versions\\1\\emails.csv'\n",
    "\n",
    "dataset = pd.read_csv(path_to_dataset)"
   ]
  },
  {
   "cell_type": "code",
   "execution_count": 65,
   "id": "090a73d5",
   "metadata": {},
   "outputs": [
    {
     "data": {
      "text/html": [
       "<div>\n",
       "<style scoped>\n",
       "    .dataframe tbody tr th:only-of-type {\n",
       "        vertical-align: middle;\n",
       "    }\n",
       "\n",
       "    .dataframe tbody tr th {\n",
       "        vertical-align: top;\n",
       "    }\n",
       "\n",
       "    .dataframe thead th {\n",
       "        text-align: right;\n",
       "    }\n",
       "</style>\n",
       "<table border=\"1\" class=\"dataframe\">\n",
       "  <thead>\n",
       "    <tr style=\"text-align: right;\">\n",
       "      <th></th>\n",
       "      <th>text</th>\n",
       "      <th>spam</th>\n",
       "    </tr>\n",
       "  </thead>\n",
       "  <tbody>\n",
       "    <tr>\n",
       "      <th>0</th>\n",
       "      <td>Subject: naturally irresistible your corporate...</td>\n",
       "      <td>1</td>\n",
       "    </tr>\n",
       "    <tr>\n",
       "      <th>1</th>\n",
       "      <td>Subject: the stock trading gunslinger  fanny i...</td>\n",
       "      <td>1</td>\n",
       "    </tr>\n",
       "    <tr>\n",
       "      <th>2</th>\n",
       "      <td>Subject: unbelievable new homes made easy  im ...</td>\n",
       "      <td>1</td>\n",
       "    </tr>\n",
       "    <tr>\n",
       "      <th>3</th>\n",
       "      <td>Subject: 4 color printing special  request add...</td>\n",
       "      <td>1</td>\n",
       "    </tr>\n",
       "    <tr>\n",
       "      <th>4</th>\n",
       "      <td>Subject: do not have money , get software cds ...</td>\n",
       "      <td>1</td>\n",
       "    </tr>\n",
       "  </tbody>\n",
       "</table>\n",
       "</div>"
      ],
      "text/plain": [
       "                                                text  spam\n",
       "0  Subject: naturally irresistible your corporate...     1\n",
       "1  Subject: the stock trading gunslinger  fanny i...     1\n",
       "2  Subject: unbelievable new homes made easy  im ...     1\n",
       "3  Subject: 4 color printing special  request add...     1\n",
       "4  Subject: do not have money , get software cds ...     1"
      ]
     },
     "execution_count": 65,
     "metadata": {},
     "output_type": "execute_result"
    }
   ],
   "source": [
    "dataset.head()"
   ]
  },
  {
   "cell_type": "code",
   "execution_count": null,
   "id": "8f0a3c90",
   "metadata": {},
   "outputs": [],
   "source": [
    "\n",
    "# Utitlity functions for pre-processing\n",
    "\n",
    "# I just do little bit pre-processing, but you can definitily use your own pre-processing functions, other methods and improve it. My goas here is just to use the logisitic regression model thate we build from scratch. But if you will look at the results, they are insane.\n",
    "\n",
    "stop_words = set(stopwords.words('english'))\n",
    "filler_words = {'um', 'uh', 'like', 'you know', 'i mean', 'so', 'actually', 'basically'}\n",
    "\n",
    "\n",
    "def preprocess_text(text):\n",
    "    text = text.lower()\n",
    "    text = re.sub(r'[^a-z\\s]', '', text)\n",
    "    tokens = text.split()\n",
    "    cleaned = [word for word in tokens if word not in stop_words and word not in filler_words]\n",
    "    return ' '.join(cleaned)\n",
    "\n",
    "\n",
    "def get_normalized_text(dataset):\n",
    "    dataset['text'] = dataset['text'].apply(lambda x: x.lower())\n",
    "    dataset['text'] = dataset['text'].apply(lambda x: x.replace('\\n', ' '))\n",
    "    dataset['text'] = dataset['text'].apply(lambda x: x.replace('\\r', ' '))\n",
    "    dataset['text'] = dataset['text'].apply(lambda x: x.replace('\\t', ' '))\n",
    "    dataset['text'] = dataset['text'].apply(lambda x: x.replace('  ', ' '))\n",
    "    dataset['text'] = dataset['text'].apply(preprocess_text)\n",
    "\n",
    "get_normalized_text(dataset)\n",
    "\n"
   ]
  },
  {
   "cell_type": "code",
   "execution_count": null,
   "id": "c17006e3",
   "metadata": {},
   "outputs": [],
   "source": [
    "\n",
    "# Create embedding using Tf-Idf. We can also use some other optins like word2vec etc.\n",
    "\n",
    "vectorizer = TfidfVectorizer()\n",
    "tfidf_matrix = vectorizer.fit_transform(dataset['text'])\n",
    "y = dataset['spam']\n",
    "\n",
    "X_train, X_test, y_train, y_test = train_test_split(tfidf_matrix, y, test_size=0.2, random_state=42)\n",
    "\n",
    "X_train = X_train.toarray()\n",
    "X_test = X_test.toarray()\n",
    "\n"
   ]
  },
  {
   "cell_type": "code",
   "execution_count": 69,
   "id": "65a37759",
   "metadata": {},
   "outputs": [],
   "source": [
    "logistic_regress = LogisticRegression(should_normalize=True, lr=0.01, n_iters=1000)"
   ]
  },
  {
   "cell_type": "code",
   "execution_count": 70,
   "id": "8c095cc6",
   "metadata": {},
   "outputs": [
    {
     "name": "stdout",
     "output_type": "stream",
     "text": [
      "Iteration 1, Loss: 0.6931\n",
      "Iteration 101, Loss: 0.1204\n",
      "Iteration 201, Loss: 0.0656\n",
      "Iteration 301, Loss: 0.0446\n",
      "Iteration 401, Loss: 0.0337\n",
      "Iteration 501, Loss: 0.0270\n",
      "Iteration 601, Loss: 0.0226\n",
      "Iteration 701, Loss: 0.0193\n",
      "Iteration 801, Loss: 0.0169\n",
      "Iteration 901, Loss: 0.0150\n"
     ]
    }
   ],
   "source": [
    "logistic_regress.fit(X_train, y_train)"
   ]
  },
  {
   "cell_type": "code",
   "execution_count": null,
   "id": "d40627ce",
   "metadata": {},
   "outputs": [
    {
     "name": "stdout",
     "output_type": "stream",
     "text": [
      "Predicted classes: [0, 0, 0, 0, 0, 1, 0, 0, 0, 1]\n",
      "Actual classes: [0, 0, 0, 0, 0, 1, 0, 0, 0, 1]\n",
      "Accuracy: 0.9808\n"
     ]
    }
   ],
   "source": [
    "y_pred_classes = logistic_regress.predict_class(X_test)\n",
    "print(f\"Predicted classes: {y_pred_classes[:10]}\")\n",
    "print(f\"Actual classes: {list(y_test)[:10]}\") \n",
    "\n",
    "accuracy = np.mean(y_pred_classes == y_test)\n",
    "print(f\"Accuracy: {accuracy:.4f}\")\n",
    "\n"
   ]
  },
  {
   "cell_type": "code",
   "execution_count": 72,
   "id": "a76114e9",
   "metadata": {},
   "outputs": [
    {
     "data": {
      "image/png": "[encoded data removed]",
      "text/plain": [
       "<Figure size 800x600 with 2 Axes>"
      ]
     },
     "metadata": {},
     "output_type": "display_data"
    },
    {
     "name": "stdout",
     "output_type": "stream",
     "text": [
      "\n",
      "Classification Report:\n",
      "              precision    recall  f1-score   support\n",
      "\n",
      "    Not Spam       0.99      0.98      0.99       856\n",
      "        Spam       0.95      0.98      0.96       290\n",
      "\n",
      "    accuracy                           0.98      1146\n",
      "   macro avg       0.97      0.98      0.97      1146\n",
      "weighted avg       0.98      0.98      0.98      1146\n",
      "\n"
     ]
    }
   ],
   "source": [
    "# Import additional libraries for evaluation\n",
    "from sklearn.metrics import confusion_matrix, classification_report\n",
    "\n",
    "# Create a confusion matrix\n",
    "cm = confusion_matrix(y_test, y_pred_classes)\n",
    "plt.figure(figsize=(8, 6))\n",
    "sns.heatmap(cm, annot=True, fmt='d', cmap='Blues', \n",
    "            xticklabels=['Not Spam', 'Spam'], \n",
    "            yticklabels=['Not Spam', 'Spam'])\n",
    "plt.title('Confusion Matrix - Spam Classification')\n",
    "plt.xlabel('Predicted')\n",
    "plt.ylabel('Actual')\n",
    "plt.show()\n",
    "\n",
    "print(\"\\nClassification Report:\")\n",
    "print(classification_report(y_test, y_pred_classes, target_names=['Not Spam', 'Spam']))\n"
   ]
  },
  {
   "cell_type": "code",
   "execution_count": 74,
   "id": "0ef95e41",
   "metadata": {},
   "outputs": [
    {
     "name": "stdout",
     "output_type": "stream",
     "text": [
      "Testing on sample emails:\n",
      "\n",
      "Email 1: Congratulations! You've won a free iPhone! Click h...\n",
      "Prediction: SPAM\n",
      "------------------------------------------------------------\n",
      "Email 2: Hi John, let's meet for lunch tomorrow at 12 PM. H...\n",
      "Prediction: NOT SPAM\n",
      "------------------------------------------------------------\n",
      "Email 3: URGENT: Your account will be closed unless you ver...\n",
      "Prediction: NOT SPAM\n",
      "------------------------------------------------------------\n",
      "Email 4: The meeting has been rescheduled to 3 PM on Friday...\n",
      "Prediction: NOT SPAM\n",
      "------------------------------------------------------------\n",
      "Email 5: Get rich quick! Make $1000 a day working from home...\n",
      "Prediction: SPAM\n",
      "------------------------------------------------------------\n",
      "Email 6: Your email has been randomly selected in the Globa...\n",
      "Prediction: SPAM\n",
      "------------------------------------------------------------\n",
      "Email 7: We noticed suspicious activity on your account. Fo...\n",
      "Prediction: SPAM\n",
      "------------------------------------------------------------\n"
     ]
    }
   ],
   "source": [
    "# Test the model on some sample emails\n",
    "sample_emails = [\n",
    "    \"Congratulations! You've won a free iPhone! Click here to claim your prize now!\",\n",
    "    \"Hi John, let's meet for lunch tomorrow at 12 PM. How does that sound?\",\n",
    "    \"URGENT: Your account will be closed unless you verify your information immediately!\",\n",
    "    \"The meeting has been rescheduled to 3 PM on Friday. Please confirm your attendance.\",\n",
    "    \"Get rich quick! Make $1000 a day working from home! No experience needed!\",\n",
    "    \"Your email has been randomly selected in the Global Lottery Draw. You have won $1,000,000 USD! To claim your prize, simply reply with your full name, address, and bank details. Act fast! This offer expires in 24 hours.\",\n",
    "    \"We noticed suspicious activity on your account. For your safety, your account has been temporarily suspended. Please click the link below and verify your information immediately: [http://fake-bank-login.com](http://fake-bank-login.com) Failure to do so will result in permanent suspension.\"\n",
    "]\n",
    "\n",
    "print(\"Testing on sample emails:\\n\")\n",
    "for i, email in enumerate(sample_emails):\n",
    "    # Preprocess the email\n",
    "    processed_email = preprocess_text(email)\n",
    "    \n",
    "    # Transform using the same vectorizer\n",
    "    email_tfidf = vectorizer.transform([processed_email]).toarray()\n",
    "    \n",
    "    # Make prediction\n",
    "    prediction = logistic_regress.predict_class(email_tfidf)[0]\n",
    "    spam_label = \"SPAM\" if prediction == 1 else \"NOT SPAM\"\n",
    "    \n",
    "    print(f\"Email {i+1}: {email[:50]}...\")\n",
    "    print(f\"Prediction: {spam_label}\")\n",
    "    print(\"-\" * 60)\n"
   ]
  },
  {
   "cell_type": "code",
   "execution_count": null,
   "id": "7956557d",
   "metadata": {},
   "outputs": [],
   "source": []
  }
 ],
 "metadata": {
  "kernelspec": {
   "display_name": "Python 3",
   "language": "python",
   "name": "python3"
  },
  "language_info": {
   "codemirror_mode": {
    "name": "ipython",
    "version": 3
   },
   "file_extension": ".py",
   "mimetype": "text/x-python",
   "name": "python",
   "nbconvert_exporter": "python",
   "pygments_lexer": "ipython3",
   "version": "3.13.2"
  }
 },
 "nbformat": 4,
 "nbformat_minor": 5
}
